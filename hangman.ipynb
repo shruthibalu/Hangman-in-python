{
 "cells": [
  {
   "cell_type": "markdown",
   "metadata": {
    "id": "7QEnOO5xO1H9"
   },
   "source": [
    "# **Project I - Hangman**\n",
    "\n",
    "\n",
    "\n"
   ]
  },
  {
   "cell_type": "code",
   "execution_count": 1,
   "metadata": {
    "id": "QLE2sw9cadrd"
   },
   "outputs": [],
   "source": [
    "#I import the random library\n",
    "# To import any module, I write import PACKAGE_NAME\n",
    "import random"
   ]
  },
  {
   "cell_type": "code",
   "execution_count": 2,
   "metadata": {
    "id": "yxttlZpJdZr-"
   },
   "outputs": [],
   "source": [
    "#I create an array with the words I want for this Hangman game. Feel free to add more animals if you'd like\n",
    "words_list = [\"monkey\", \"cat\", \"dog\", \"cow\", \"duck\", \"lion\", \"tiger\"]\n",
    "\n",
    "#My list of ASCII art styles. \n",
    "hangman_art_ascii = ['''\n",
    "  +---+\n",
    "  |   |\n",
    "      |\n",
    "      |\n",
    "      |\n",
    "      |\n",
    "=========''', '''\n",
    "  +---+\n",
    "  |   |\n",
    "  O   |\n",
    "      |\n",
    "      |\n",
    "      |\n",
    "=========''', '''\n",
    "  +---+\n",
    "  |   |\n",
    "  O   |\n",
    "  |   |\n",
    "      |\n",
    "      |\n",
    "=========''', '''\n",
    "  +---+\n",
    "  |   |\n",
    "  O   |\n",
    " /|   |\n",
    "      |\n",
    "      |\n",
    "=========''', '''\n",
    "  +---+\n",
    "  |   |\n",
    "  O   |\n",
    " /|\\  |\n",
    "      |\n",
    "      |\n",
    "=========''', '''\n",
    "  +---+\n",
    "  |   |\n",
    "  O   |\n",
    " /|\\  |\n",
    " /    |\n",
    "      |\n",
    "=========''', '''\n",
    "  +---+\n",
    "  |   |\n",
    "  O   |\n",
    " /|\\  |\n",
    " / \\  |\n",
    "      |\n",
    "=========''']"
   ]
  },
  {
   "cell_type": "code",
   "execution_count": 3,
   "metadata": {
    "id": "3luAH_kHnHZI"
   },
   "outputs": [],
   "source": [
    "def dash_maker(selection, word): #Two parameters, the correctly guessed letters and the original word\n",
    "\n",
    "      #empty string\n",
    "      dashes = \"\"\n",
    "      #this is the letters in the word that i have guessed correctly in string format\n",
    "      string_selection = ''.join(selection)\n",
    "\n",
    "      #checks if letters are in the word, if found, add that to the string, otherwise make it a dash\n",
    "      for i in range(0, len(word)): #I want to go the length of the word\n",
    "        found_letter = \" - \" #default state is dash\n",
    "        for j in range(0, len(string_selection)): #find the position of my correct guess in the word, and change default state to the guessed letter\n",
    "         if word[i].upper() == string_selection[j]:\n",
    "          found_letter = string_selection[j] \n",
    "        dashes = dashes + found_letter #dashes grows with the size of the word (same size). If the letter is at a position, it will show otherwise dash\n",
    "\n",
    "      return dashes #return dash"
   ]
  },
  {
   "cell_type": "code",
   "execution_count": 5,
   "metadata": {
    "id": "Mw2MlAQcdwHP"
   },
   "outputs": [],
   "source": [
    "def hangman():\n",
    "  \n",
    "    #this gets us a random word in the list\n",
    "    word = random.choice(words_list)\n",
    "    #this gets us the letters in the word\n",
    "    letters = set(word.upper())\n",
    "    print(letters)\n",
    "    #we need a set to keep track of user correct entries\n",
    "    selection = set()\n",
    "    #we keep a list of user incorrect guesses\n",
    "    guesses = set()\n",
    "\n",
    "\n",
    "    #this is the variable keeping track of the hangman art\n",
    "    hang = 0\n",
    "\n",
    "    print(hangman_art_ascii[hang])\n",
    "\n",
    "    #I want the loop to run until user loses the game, or wins the game. \n",
    "    while (len(letters) > 0 and hang < len(hangman_art_ascii)):\n",
    "      #we ask for user input here\n",
    "      user_input = input(\"Type something: \").upper()\n",
    "      #compare to our set of leters\n",
    "      if user_input in letters:\n",
    "        #add correct guess to set of correct entries\n",
    "        selection.add(user_input)\n",
    "        #add correct guess to set of all entries\n",
    "        guesses.add(user_input)\n",
    "        #remove the correctly guessed letters from \n",
    "        letters.remove(user_input)\n",
    "        #this is a fancy way to show the status of the guessed words\n",
    "        dash = dash_maker(selection, word)\n",
    "        print(dash)  #print the percentage of word that is complete\n",
    "      elif user_input in guesses: #if already guessed\n",
    "        print(\"You've already guessed this letter young padawan\") #I print a statement saying you have guessed this before, Glaux sees all\n",
    "        print(hangman_art_ascii[hang]) #The status of the hangman does not change, since he already guessed this letter\n",
    "      else: #what if the guessed letter is not in the word?\n",
    "          hang = hang + 1 #advance the hangman to his death!\n",
    "          print(hangman_art_ascii[hang]) #print it out for the user\n",
    "          guesses.add(user_input) #add the wrong entry to the set of all entries\n",
    "          print(user_input + \" is not in the word, sorry!\") #Remind the user that the wrongly guessed letter is not in the word\n",
    "          dash = dash_maker(selection, word) #this is a fancy way to show the status of the guessed words\n",
    "          print(dash) #print the percentage of word that is complete\n",
    "\n",
    "    if(len(letters) == 0): #There are no more letters in the game so user wins! :)\n",
    "        print(\"Congratulations, you win\")\n",
    "    elif(hang == len(hangman_art_ascii)): #The user has progressed through all stages of the hangman's death. Game Over. :/\n",
    "        print(\"You are dead!\")        \n",
    "    \n",
    "  \n",
    "          "
   ]
  },
  {
   "cell_type": "code",
   "execution_count": null,
   "metadata": {
    "id": "WUMKdbXbfRHN"
   },
   "outputs": [
    {
     "name": "stdout",
     "output_type": "stream",
     "text": [
      "{'C', 'K', 'D', 'U'}\n",
      "\n",
      "  +---+\n",
      "  |   |\n",
      "      |\n",
      "      |\n",
      "      |\n",
      "      |\n",
      "=========\n",
      "Type something: crow\n",
      "\n",
      "  +---+\n",
      "  |   |\n",
      "  O   |\n",
      "      |\n",
      "      |\n",
      "      |\n",
      "=========\n",
      "CROW is not in the word, sorry!\n",
      " -  -  -  - \n",
      "Type something: duck\n",
      "\n",
      "  +---+\n",
      "  |   |\n",
      "  O   |\n",
      "  |   |\n",
      "      |\n",
      "      |\n",
      "=========\n",
      "DUCK is not in the word, sorry!\n",
      " -  -  -  - \n",
      "Type something: DUCK\n",
      "You've already guessed this letter young padawan\n",
      "\n",
      "  +---+\n",
      "  |   |\n",
      "  O   |\n",
      "  |   |\n",
      "      |\n",
      "      |\n",
      "=========\n",
      "Type something: M\n",
      "\n",
      "  +---+\n",
      "  |   |\n",
      "  O   |\n",
      " /|   |\n",
      "      |\n",
      "      |\n",
      "=========\n",
      "M is not in the word, sorry!\n",
      " -  -  -  - \n",
      "Type something: O\n",
      "\n",
      "  +---+\n",
      "  |   |\n",
      "  O   |\n",
      " /|\\  |\n",
      "      |\n",
      "      |\n",
      "=========\n",
      "O is not in the word, sorry!\n",
      " -  -  -  - \n"
     ]
    }
   ],
   "source": [
    "hangman()"
   ]
  },
  {
   "cell_type": "code",
   "execution_count": null,
   "metadata": {},
   "outputs": [],
   "source": []
  }
 ],
 "metadata": {
  "colab": {
   "authorship_tag": "ABX9TyOx6rKIRgjvHNaASFU5CCeh",
   "collapsed_sections": [],
   "name": "Project I - Hangman.ipynb",
   "provenance": []
  },
  "kernelspec": {
   "display_name": "Python 3 (ipykernel)",
   "language": "python",
   "name": "python3"
  },
  "language_info": {
   "codemirror_mode": {
    "name": "ipython",
    "version": 3
   },
   "file_extension": ".py",
   "mimetype": "text/x-python",
   "name": "python",
   "nbconvert_exporter": "python",
   "pygments_lexer": "ipython3",
   "version": "3.10.4"
  }
 },
 "nbformat": 4,
 "nbformat_minor": 1
}
